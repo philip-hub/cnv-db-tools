{
 "cells": [
  {
   "cell_type": "code",
   "execution_count": null,
   "id": "aaa1560b",
   "metadata": {},
   "outputs": [],
   "source": [
    "#imports\n",
    "import pandas as pd; import numpy as np; import re; import matplotlib.pyplot as plt;"
   ]
  },
  {
   "cell_type": "code",
   "execution_count": null,
   "id": "cd1f0df5",
   "metadata": {},
   "outputs": [],
   "source": [
    "#config\n",
    "extended_output = True\n",
    "\n",
    "#inputs\n",
    "kar_file_path = \"inputs/Data_D1_karyotype.tsv\"\n",
    "data_file_path = \"inputs/SJALL003310_D3.tsv\"\n",
    "\n",
    "#outputs\n",
    "csv_file_path = \"coverage/coverage_with_x_and_median.csv\"\n",
    "tsv_file_path = \"coverage/coverage_with_x_and_median.tsv\"\n",
    "\n",
    "#plot outputs\n",
    "plot_path = \"plots/converage_plot.png\"\n",
    "simple_plot_path = \"plots/simple_converage_plot.png\"\n"
   ]
  },
  {
   "cell_type": "code",
   "execution_count": null,
   "id": "6001cffc",
   "metadata": {},
   "outputs": [],
   "source": [
    "#helper functions\n",
    "\n",
    "#gets midpoint\n",
    "def proc_Pos (x):\n",
    "    return (np.min(x) + np.max(x))/2\n",
    "\n",
    "#helps get the chromosome position\n",
    "def extract_chromosome(arm):\n",
    "    if arm.startswith('chr'):\n",
    "        if arm == 'chrXp':\n",
    "            return 1000\n",
    "        elif arm == 'chrXq':\n",
    "            return 1001\n",
    "        elif arm == 'chrYp':\n",
    "            return 1002\n",
    "        elif arm == 'chrYq':\n",
    "            return 1003\n",
    "        else:\n",
    "            match = re.match(r'chr(\\d+)([pq])', arm)\n",
    "            if match:\n",
    "                number = int(match.group(1))\n",
    "                arm_type = match.group(2)\n",
    "                # Ensure numeric chromosomes are ordered first\n",
    "                return number * 2 + (1 if arm_type == 'q' else 0)\n",
    "    return -1  # Return -1 if not matched\n",
    "\n",
    "#view the data frame in theta(n) time\n",
    "def dataViewer(data):\n",
    "    for i in range (1,22):\n",
    "        print(\"new chromosome: \"+str(i))\n",
    "        print(data[data['arm']==\"chr\"+str(i)+\"p\"])\n",
    "        print(data[data['arm']==\"chr\"+str(i)+\"q\"])\n",
    "        print(\"\\n\")\n",
    "        \n",
    "        \n",
    "\n",
    "def plot(data,path):\n",
    "    plt.figure(figsize=(20, 3))\n",
    "    plt.scatter(data['x'].values, data['y'].values, s=5, alpha=0.5, c='lightgreen')  # s parameter controls the size of the dots\n",
    "    plt.title('Coverage Plot')\n",
    "    plt.xlabel('position')\n",
    "    plt.ylabel('log2(median/ref)')\n",
    "    plt.grid(True)\n",
    "\n",
    "\n",
    "    x_ticks = []\n",
    "    x_labels = []\n",
    "    previous_arm = None\n",
    "    \n",
    "    for i, (x, arm) in enumerate(zip(data['x'], data['arm'])):\n",
    "        if arm != previous_arm:\n",
    "            x_ticks.append(x)\n",
    "            x_labels.append(arm)\n",
    "            previous_arm = arm\n",
    "    \n",
    "    plt.xticks(ticks=x_ticks, labels=x_labels, rotation=90)\n",
    "    \n",
    "    # Show the plot\n",
    "    plt.tight_layout()\n",
    "    plt.savefig(path) \n",
    "    plt.show()\n",
    "    \n",
    "def simplePlot(data,path):\n",
    "    plt.figure(figsize=(20, 3))\n",
    "    data.plot.scatter(\"x\", \"y\")\n",
    "    plt.savefig(path) \n",
    "    plt.show()\n",
    "        "
   ]
  },
  {
   "cell_type": "code",
   "execution_count": null,
   "id": "0da50aee",
   "metadata": {},
   "outputs": [],
   "source": [
    "#get dataframes\n",
    "kar_data = pd.read_csv(kar_file_path, sep=\"\\t\")\n",
    "\n",
    "data_i = pd.read_csv(data_file_path, sep=\"\\t\")"
   ]
  },
  {
   "cell_type": "code",
   "execution_count": null,
   "id": "356b1dde",
   "metadata": {},
   "outputs": [],
   "source": [
    "#drop data\n",
    "data_filter = data_i[data_i['cv'] < 20]\n",
    "print(\"After Filtering CV: \"+str(data_filter.shape))\n",
    "\n",
    "data = data_filter.dropna(subset=['lcv', 'Pos'])\n",
    "\n",
    "\n",
    "if extended_output: dataViewer(data)"
   ]
  },
  {
   "cell_type": "code",
   "execution_count": null,
   "id": "c7cd985a",
   "metadata": {},
   "outputs": [],
   "source": [
    "# I forgot the keyboard command to remove a cell"
   ]
  },
  {
   "cell_type": "code",
   "execution_count": null,
   "id": "a307736d",
   "metadata": {},
   "outputs": [],
   "source": [
    "ref_arms = kar_data.loc[kar_data['clone'] == 'DIP', 'arm'].tolist()\n",
    "tmp = data.loc[[(a in ref_arms) & (not ho) for a, ho in zip(data['arm'].tolist(), data['Houtlier'].tolist())]]\n",
    "# what I called r\n",
    "mlcv = tmp['lcv'].mean()\n",
    "print(\"mlcv : \"+str(mlcv))"
   ]
  },
  {
   "cell_type": "code",
   "execution_count": null,
   "id": "ed7913ff",
   "metadata": {},
   "outputs": [],
   "source": [
    "grdata = tmp.groupby(by=['arm', 'group_tr']).agg({'lcv': np.mean, 'Pos': proc_Pos, 'cv': len}).reset_index()\n",
    "\n",
    "if extended_output: dataViewer(data)"
   ]
  },
  {
   "cell_type": "code",
   "execution_count": null,
   "id": "ed23279e",
   "metadata": {},
   "outputs": [],
   "source": [
    "grdata['y'] = np.log(grdata['lcv'].values / mlcv)\n",
    "\n",
    "grdata"
   ]
  },
  {
   "cell_type": "code",
   "execution_count": null,
   "id": "da7e0b05",
   "metadata": {},
   "outputs": [],
   "source": [
    "grdata['arm_order'] = grdata['arm'].apply(extract_chromosome)\n",
    "grdata = grdata.sort_values(by=['arm_order', 'group_tr']).reset_index(drop=True)\n",
    "grdata['x'] = range(len(grdata))\n",
    "\n",
    "grdata"
   ]
  },
  {
   "cell_type": "code",
   "execution_count": null,
   "id": "764e3256",
   "metadata": {},
   "outputs": [],
   "source": [
    "#exports\n",
    "csv_file_path = \"coverage/coverage_with_x_and_median.csv\"\n",
    "grdata.to_csv(csv_file_path, index=False)\n",
    "\n",
    "tsv_file_path = \"coverage/coverage_with_x_and_median.tsv\"\n",
    "grdata.to_csv(tsv_file_path, sep='\\t', index=False)"
   ]
  },
  {
   "cell_type": "code",
   "execution_count": null,
   "id": "1b1f67c8",
   "metadata": {},
   "outputs": [],
   "source": [
    "#look\n",
    "dataViewer(grdata)\n"
   ]
  },
  {
   "cell_type": "code",
   "execution_count": null,
   "id": "b2db7e98",
   "metadata": {},
   "outputs": [],
   "source": [
    "#plot\n",
    "plot(grdata,plot_path)\n"
   ]
  },
  {
   "cell_type": "code",
   "execution_count": null,
   "id": "868ee4a3",
   "metadata": {},
   "outputs": [],
   "source": [
    "#simple plot\n",
    "simplePlot(grdata,simple_plot_path)"
   ]
  }
 ],
 "metadata": {
  "kernelspec": {
   "display_name": "Python 3 (ipykernel)",
   "language": "python",
   "name": "python3"
  },
  "language_info": {
   "codemirror_mode": {
    "name": "ipython",
    "version": 3
   },
   "file_extension": ".py",
   "mimetype": "text/x-python",
   "name": "python",
   "nbconvert_exporter": "python",
   "pygments_lexer": "ipython3",
   "version": "3.9.13"
  }
 },
 "nbformat": 4,
 "nbformat_minor": 5
}
